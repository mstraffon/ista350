{
 "cells": [
  {
   "cell_type": "code",
   "execution_count": 80,
   "id": "1e85d368",
   "metadata": {},
   "outputs": [],
   "source": [
    "from selenium import webdriver\n",
    "from selenium.webdriver.common.by import By\n",
    "from bs4 import BeautifulSoup\n"
   ]
  },
  {
   "cell_type": "code",
   "execution_count": 81,
   "id": "050bd384",
   "metadata": {},
   "outputs": [],
   "source": [
    "driver=webdriver.Chrome()"
   ]
  },
  {
   "cell_type": "code",
   "execution_count": 82,
   "id": "61b70c33",
   "metadata": {},
   "outputs": [],
   "source": [
    "login='https://www.kaggle.com/account/login?phase=emailSignIn&returnUrl=%2F'"
   ]
  },
  {
   "cell_type": "code",
   "execution_count": 83,
   "id": "45a250c6",
   "metadata": {},
   "outputs": [],
   "source": [
    "driver.get(login)"
   ]
  },
  {
   "cell_type": "code",
   "execution_count": 84,
   "id": "c1845e3e",
   "metadata": {},
   "outputs": [],
   "source": [
    "login=driver.find_elements(By.CLASS_NAME,\"mdc-text-field__input\")"
   ]
  },
  {
   "cell_type": "code",
   "execution_count": 85,
   "id": "4a06d949",
   "metadata": {},
   "outputs": [],
   "source": [
    "login[0].send_keys(\"meganstraffon@gmail.com\")"
   ]
  },
  {
   "cell_type": "code",
   "execution_count": 86,
   "id": "6b0a9fa4",
   "metadata": {},
   "outputs": [],
   "source": [
    "login[1].send_keys(\"password1\")"
   ]
  },
  {
   "cell_type": "code",
   "execution_count": 88,
   "id": "597e05a7",
   "metadata": {},
   "outputs": [],
   "source": [
    "button=driver.find_element(By.CSS_SELECTOR,\".sc-hVkBjg.hLHXAF\")"
   ]
  },
  {
   "cell_type": "code",
   "execution_count": 89,
   "id": "13d6fc6c",
   "metadata": {},
   "outputs": [],
   "source": [
    "button.click()"
   ]
  },
  {
   "cell_type": "code",
   "execution_count": 90,
   "id": "81ab440e",
   "metadata": {},
   "outputs": [],
   "source": [
    "data='https://www.kaggle.com/datasets/williamschooleman/scoobydoo-complete?resource=download'"
   ]
  },
  {
   "cell_type": "code",
   "execution_count": 91,
   "id": "ae389cd3",
   "metadata": {},
   "outputs": [],
   "source": [
    "driver.get(data)"
   ]
  },
  {
   "cell_type": "code",
   "execution_count": 92,
   "id": "2e6bfdfe",
   "metadata": {},
   "outputs": [],
   "source": [
    "dbutton=driver.find_element(By.CLASS_NAME,\"sc-hVkBjg.gKVnlg.sc-kKQBHJ.ijajgO\")"
   ]
  },
  {
   "cell_type": "code",
   "execution_count": 93,
   "id": "226f7e39",
   "metadata": {},
   "outputs": [],
   "source": [
    "dbutton.click()"
   ]
  },
  {
   "cell_type": "code",
   "execution_count": null,
   "id": "d9cb36d6",
   "metadata": {},
   "outputs": [],
   "source": []
  },
  {
   "cell_type": "code",
   "execution_count": null,
   "id": "d580bdeb",
   "metadata": {},
   "outputs": [],
   "source": []
  },
  {
   "cell_type": "code",
   "execution_count": null,
   "id": "dcf7ac52",
   "metadata": {},
   "outputs": [],
   "source": []
  }
 ],
 "metadata": {
  "kernelspec": {
   "display_name": "Python 3 (ipykernel)",
   "language": "python",
   "name": "python3"
  },
  "language_info": {
   "codemirror_mode": {
    "name": "ipython",
    "version": 3
   },
   "file_extension": ".py",
   "mimetype": "text/x-python",
   "name": "python",
   "nbconvert_exporter": "python",
   "pygments_lexer": "ipython3",
   "version": "3.9.13"
  }
 },
 "nbformat": 4,
 "nbformat_minor": 5
}
