{
 "cells": [
  {
   "cell_type": "code",
   "execution_count": 141,
   "id": "17f9ffeb",
   "metadata": {},
   "outputs": [],
   "source": [
    "from selenium import webdriver \n",
    "from selenium.webdriver.common.by import By\n",
    "from selenium.webdriver.support.ui import WebDriverWait\n",
    "from selenium.webdriver.support import expected_conditions as EC\n",
    "from bs4 import BeautifulSoup"
   ]
  },
  {
   "cell_type": "code",
   "execution_count": 142,
   "id": "7d3de0de",
   "metadata": {},
   "outputs": [],
   "source": [
    "browser = webdriver.Chrome()"
   ]
  },
  {
   "cell_type": "code",
   "execution_count": 143,
   "id": "bec40a12",
   "metadata": {},
   "outputs": [],
   "source": [
    "#Accessing the website\n",
    "signin = \"https://www.kaggle.com/account/login?phase=emailSignIn&returnUrl=%2F\"\n",
    "browser.get(signin)\n",
    "\n",
    "#Finding username and password and filling in fields with information \n",
    "username_password = browser.find_elements(By.CLASS_NAME, \"mdc-text-field__input\")\n",
    "username_password[0].send_keys(\"anushkabande\")\n",
    "username_password[1].send_keys(\"UnknownGhost@350\")\n",
    "\n",
    "#Pressing on  Sign In button \n",
    "signin_btn = browser.find_element(By.CSS_SELECTOR,\".sc-hVkBjg.hLHXAF\")\n",
    "signin_btn.click()"
   ]
  },
  {
   "cell_type": "code",
   "execution_count": 144,
   "id": "902c07e8",
   "metadata": {},
   "outputs": [],
   "source": [
    "#acessing the data in a new tab\n",
    "browser.execute_script('window.open(\"https://www.kaggle.com/datasets/williamschooleman/scoobydoo-complete\");')"
   ]
  },
  {
   "cell_type": "code",
   "execution_count": 146,
   "id": "bb961e7b",
   "metadata": {
    "scrolled": true
   },
   "outputs": [
    {
     "ename": "NoSuchElementException",
     "evalue": "Message: no such element: Unable to locate element: {\"method\":\"css selector\",\"selector\":\"sc-hVkBjg.gKVnlg.sc-kKQBHJ.ijajgO\"}\n  (Session info: chrome=112.0.5615.137)\nStacktrace:\n0   chromedriver                        0x0000000103025670 chromedriver + 4298352\n1   chromedriver                        0x000000010301dbbc chromedriver + 4266940\n2   chromedriver                        0x0000000102c50758 chromedriver + 280408\n3   chromedriver                        0x0000000102c8bb38 chromedriver + 523064\n4   chromedriver                        0x0000000102cc4080 chromedriver + 753792\n5   chromedriver                        0x0000000102c7e2d0 chromedriver + 467664\n6   chromedriver                        0x0000000102c7f354 chromedriver + 471892\n7   chromedriver                        0x0000000102fe56c4 chromedriver + 4036292\n8   chromedriver                        0x0000000102fe9c64 chromedriver + 4054116\n9   chromedriver                        0x0000000102ff02d8 chromedriver + 4080344\n10  chromedriver                        0x0000000102fea970 chromedriver + 4057456\n11  chromedriver                        0x0000000102fc18dc chromedriver + 3889372\n12  chromedriver                        0x000000010300925c chromedriver + 4182620\n13  chromedriver                        0x00000001030093b4 chromedriver + 4182964\n14  chromedriver                        0x00000001030180f4 chromedriver + 4243700\n15  libsystem_pthread.dylib             0x0000000189a2506c _pthread_start + 148\n16  libsystem_pthread.dylib             0x0000000189a1fe2c thread_start + 8\n",
     "output_type": "error",
     "traceback": [
      "\u001b[0;31m---------------------------------------------------------------------------\u001b[0m",
      "\u001b[0;31mNoSuchElementException\u001b[0m                    Traceback (most recent call last)",
      "Input \u001b[0;32mIn [146]\u001b[0m, in \u001b[0;36m<cell line: 2>\u001b[0;34m()\u001b[0m\n\u001b[1;32m      1\u001b[0m \u001b[38;5;66;03m#Finding and clicking the download button\u001b[39;00m\n\u001b[0;32m----> 2\u001b[0m download_btn \u001b[38;5;241m=\u001b[39m \u001b[43mbrowser\u001b[49m\u001b[38;5;241;43m.\u001b[39;49m\u001b[43mfind_element\u001b[49m\u001b[43m(\u001b[49m\u001b[43mBy\u001b[49m\u001b[38;5;241;43m.\u001b[39;49m\u001b[43mCSS_SELECTOR\u001b[49m\u001b[43m,\u001b[49m\u001b[43m \u001b[49m\u001b[38;5;124;43m\"\u001b[39;49m\u001b[38;5;124;43msc-hVkBjg.gKVnlg.sc-kKQBHJ.ijajgO\u001b[39;49m\u001b[38;5;124;43m\"\u001b[39;49m\u001b[43m)\u001b[49m\n\u001b[1;32m      3\u001b[0m download_btn\u001b[38;5;241m.\u001b[39mclick()\n",
      "File \u001b[0;32m~/opt/anaconda3/lib/python3.9/site-packages/selenium/webdriver/remote/webdriver.py:831\u001b[0m, in \u001b[0;36mWebDriver.find_element\u001b[0;34m(self, by, value)\u001b[0m\n\u001b[1;32m    828\u001b[0m     by \u001b[38;5;241m=\u001b[39m By\u001b[38;5;241m.\u001b[39mCSS_SELECTOR\n\u001b[1;32m    829\u001b[0m     value \u001b[38;5;241m=\u001b[39m \u001b[38;5;124mf\u001b[39m\u001b[38;5;124m'\u001b[39m\u001b[38;5;124m[name=\u001b[39m\u001b[38;5;124m\"\u001b[39m\u001b[38;5;132;01m{\u001b[39;00mvalue\u001b[38;5;132;01m}\u001b[39;00m\u001b[38;5;124m\"\u001b[39m\u001b[38;5;124m]\u001b[39m\u001b[38;5;124m'\u001b[39m\n\u001b[0;32m--> 831\u001b[0m \u001b[38;5;28;01mreturn\u001b[39;00m \u001b[38;5;28;43mself\u001b[39;49m\u001b[38;5;241;43m.\u001b[39;49m\u001b[43mexecute\u001b[49m\u001b[43m(\u001b[49m\u001b[43mCommand\u001b[49m\u001b[38;5;241;43m.\u001b[39;49m\u001b[43mFIND_ELEMENT\u001b[49m\u001b[43m,\u001b[49m\u001b[43m \u001b[49m\u001b[43m{\u001b[49m\u001b[38;5;124;43m\"\u001b[39;49m\u001b[38;5;124;43musing\u001b[39;49m\u001b[38;5;124;43m\"\u001b[39;49m\u001b[43m:\u001b[49m\u001b[43m \u001b[49m\u001b[43mby\u001b[49m\u001b[43m,\u001b[49m\u001b[43m \u001b[49m\u001b[38;5;124;43m\"\u001b[39;49m\u001b[38;5;124;43mvalue\u001b[39;49m\u001b[38;5;124;43m\"\u001b[39;49m\u001b[43m:\u001b[49m\u001b[43m \u001b[49m\u001b[43mvalue\u001b[49m\u001b[43m}\u001b[49m\u001b[43m)\u001b[49m[\u001b[38;5;124m\"\u001b[39m\u001b[38;5;124mvalue\u001b[39m\u001b[38;5;124m\"\u001b[39m]\n",
      "File \u001b[0;32m~/opt/anaconda3/lib/python3.9/site-packages/selenium/webdriver/remote/webdriver.py:440\u001b[0m, in \u001b[0;36mWebDriver.execute\u001b[0;34m(self, driver_command, params)\u001b[0m\n\u001b[1;32m    438\u001b[0m response \u001b[38;5;241m=\u001b[39m \u001b[38;5;28mself\u001b[39m\u001b[38;5;241m.\u001b[39mcommand_executor\u001b[38;5;241m.\u001b[39mexecute(driver_command, params)\n\u001b[1;32m    439\u001b[0m \u001b[38;5;28;01mif\u001b[39;00m response:\n\u001b[0;32m--> 440\u001b[0m     \u001b[38;5;28;43mself\u001b[39;49m\u001b[38;5;241;43m.\u001b[39;49m\u001b[43merror_handler\u001b[49m\u001b[38;5;241;43m.\u001b[39;49m\u001b[43mcheck_response\u001b[49m\u001b[43m(\u001b[49m\u001b[43mresponse\u001b[49m\u001b[43m)\u001b[49m\n\u001b[1;32m    441\u001b[0m     response[\u001b[38;5;124m\"\u001b[39m\u001b[38;5;124mvalue\u001b[39m\u001b[38;5;124m\"\u001b[39m] \u001b[38;5;241m=\u001b[39m \u001b[38;5;28mself\u001b[39m\u001b[38;5;241m.\u001b[39m_unwrap_value(response\u001b[38;5;241m.\u001b[39mget(\u001b[38;5;124m\"\u001b[39m\u001b[38;5;124mvalue\u001b[39m\u001b[38;5;124m\"\u001b[39m, \u001b[38;5;28;01mNone\u001b[39;00m))\n\u001b[1;32m    442\u001b[0m     \u001b[38;5;28;01mreturn\u001b[39;00m response\n",
      "File \u001b[0;32m~/opt/anaconda3/lib/python3.9/site-packages/selenium/webdriver/remote/errorhandler.py:245\u001b[0m, in \u001b[0;36mErrorHandler.check_response\u001b[0;34m(self, response)\u001b[0m\n\u001b[1;32m    243\u001b[0m         alert_text \u001b[38;5;241m=\u001b[39m value[\u001b[38;5;124m\"\u001b[39m\u001b[38;5;124malert\u001b[39m\u001b[38;5;124m\"\u001b[39m]\u001b[38;5;241m.\u001b[39mget(\u001b[38;5;124m\"\u001b[39m\u001b[38;5;124mtext\u001b[39m\u001b[38;5;124m\"\u001b[39m)\n\u001b[1;32m    244\u001b[0m     \u001b[38;5;28;01mraise\u001b[39;00m exception_class(message, screen, stacktrace, alert_text)  \u001b[38;5;66;03m# type: ignore[call-arg]  # mypy is not smart enough here\u001b[39;00m\n\u001b[0;32m--> 245\u001b[0m \u001b[38;5;28;01mraise\u001b[39;00m exception_class(message, screen, stacktrace)\n",
      "\u001b[0;31mNoSuchElementException\u001b[0m: Message: no such element: Unable to locate element: {\"method\":\"css selector\",\"selector\":\"sc-hVkBjg.gKVnlg.sc-kKQBHJ.ijajgO\"}\n  (Session info: chrome=112.0.5615.137)\nStacktrace:\n0   chromedriver                        0x0000000103025670 chromedriver + 4298352\n1   chromedriver                        0x000000010301dbbc chromedriver + 4266940\n2   chromedriver                        0x0000000102c50758 chromedriver + 280408\n3   chromedriver                        0x0000000102c8bb38 chromedriver + 523064\n4   chromedriver                        0x0000000102cc4080 chromedriver + 753792\n5   chromedriver                        0x0000000102c7e2d0 chromedriver + 467664\n6   chromedriver                        0x0000000102c7f354 chromedriver + 471892\n7   chromedriver                        0x0000000102fe56c4 chromedriver + 4036292\n8   chromedriver                        0x0000000102fe9c64 chromedriver + 4054116\n9   chromedriver                        0x0000000102ff02d8 chromedriver + 4080344\n10  chromedriver                        0x0000000102fea970 chromedriver + 4057456\n11  chromedriver                        0x0000000102fc18dc chromedriver + 3889372\n12  chromedriver                        0x000000010300925c chromedriver + 4182620\n13  chromedriver                        0x00000001030093b4 chromedriver + 4182964\n14  chromedriver                        0x00000001030180f4 chromedriver + 4243700\n15  libsystem_pthread.dylib             0x0000000189a2506c _pthread_start + 148\n16  libsystem_pthread.dylib             0x0000000189a1fe2c thread_start + 8\n"
     ]
    }
   ],
   "source": [
    "#Finding and clicking the download button\n",
    "download_btn = browser.find_element(By.CSS_SELECTOR, \"sc-hVkBjg.gKVnlg.sc-kKQBHJ.ijajgO\")\n",
    "download_btn.click()\n"
   ]
  },
  {
   "cell_type": "code",
   "execution_count": null,
   "id": "52e03dfd",
   "metadata": {},
   "outputs": [],
   "source": []
  },
  {
   "cell_type": "code",
   "execution_count": null,
   "id": "f8c0cef6",
   "metadata": {},
   "outputs": [],
   "source": []
  }
 ],
 "metadata": {
  "kernelspec": {
   "display_name": "Python 3 (ipykernel)",
   "language": "python",
   "name": "python3"
  },
  "language_info": {
   "codemirror_mode": {
    "name": "ipython",
    "version": 3
   },
   "file_extension": ".py",
   "mimetype": "text/x-python",
   "name": "python",
   "nbconvert_exporter": "python",
   "pygments_lexer": "ipython3",
   "version": "3.9.12"
  }
 },
 "nbformat": 4,
 "nbformat_minor": 5
}
