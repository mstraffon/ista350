{
 "cells": [
  {
   "cell_type": "code",
   "execution_count": 94,
   "id": "1e85d368",
   "metadata": {},
   "outputs": [],
   "source": [
    "from selenium import webdriver\n",
    "from selenium.webdriver.common.by import By\n",
    "from bs4 import BeautifulSoup\n"
   ]
  },
  {
   "cell_type": "code",
   "execution_count": 95,
   "id": "050bd384",
   "metadata": {},
   "outputs": [],
   "source": [
    "driver=webdriver.Chrome()"
   ]
  },
  {
   "cell_type": "code",
   "execution_count": 96,
   "id": "61b70c33",
   "metadata": {},
   "outputs": [],
   "source": [
    "login='https://www.kaggle.com/account/login?phase=emailSignIn&returnUrl=%2F'"
   ]
  },
  {
   "cell_type": "code",
   "execution_count": 97,
   "id": "45a250c6",
   "metadata": {},
   "outputs": [],
   "source": [
    "driver.get(login)"
   ]
  },
  {
   "cell_type": "code",
   "execution_count": 98,
   "id": "c1845e3e",
   "metadata": {},
   "outputs": [],
   "source": [
    "login=driver.find_elements(By.CLASS_NAME,\"mdc-text-field__input\")"
   ]
  },
  {
   "cell_type": "code",
   "execution_count": 99,
   "id": "4a06d949",
   "metadata": {},
   "outputs": [],
   "source": [
    "login[0].send_keys(\"meganstraffon@gmail.com\")"
   ]
  },
  {
   "cell_type": "code",
   "execution_count": 100,
   "id": "c6cd0d83",
   "metadata": {},
   "outputs": [],
   "source": [
    "login[1].send_keys(\"password1\")"
   ]
  },
  {
   "cell_type": "code",
   "execution_count": 101,
   "id": "7d1a3c9b",
   "metadata": {},
   "outputs": [],
   "source": [
    "button=driver.find_element(By.CSS_SELECTOR,\".sc-hVkBjg.hLHXAF\")"
   ]
  },
  {
   "cell_type": "code",
   "execution_count": 102,
   "id": "c405f32f",
   "metadata": {},
   "outputs": [],
   "source": [
    "button.click()"
   ]
  },
  {
   "cell_type": "code",
   "execution_count": 103,
   "id": "a6562778",
   "metadata": {},
   "outputs": [],
   "source": [
    "data='https://www.kaggle.com/datasets/williamschooleman/scoobydoo-complete?resource=download'"
   ]
  },
  {
   "cell_type": "code",
   "execution_count": 104,
   "id": "abc123bc",
   "metadata": {},
   "outputs": [],
   "source": [
    "driver.get(data)"
   ]
  },
  {
   "cell_type": "code",
   "execution_count": 105,
   "id": "5d747b5b",
   "metadata": {},
   "outputs": [],
   "source": [
    "dbutton=driver.find_element(By.CLASS_NAME,\"sc-hVkBjg.gKVnlg.sc-kKQBHJ.ijajgO\")"
   ]
  },
  {
   "cell_type": "code",
   "execution_count": 106,
   "id": "f4dd3eac",
   "metadata": {},
   "outputs": [],
   "source": [
    "dbutton.click()"
   ]
  },
  {
   "cell_type": "code",
   "execution_count": null,
   "id": "761d5c05",
   "metadata": {},
   "outputs": [],
   "source": []
  },
  {
   "cell_type": "code",
   "execution_count": null,
   "id": "f2e08d9e",
   "metadata": {},
   "outputs": [],
   "source": []
  },
  {
   "cell_type": "code",
   "execution_count": null,
   "id": "f183b13c",
   "metadata": {},
   "outputs": [],
   "source": []
  }
 ],
 "metadata": {
  "kernelspec": {
   "display_name": "Python 3 (ipykernel)",
   "language": "python",
   "name": "python3"
  },
  "language_info": {
   "codemirror_mode": {
    "name": "ipython",
    "version": 3
   },
   "file_extension": ".py",
   "mimetype": "text/x-python",
   "name": "python",
   "nbconvert_exporter": "python",
   "pygments_lexer": "ipython3",
   "version": "3.9.13"
  }
 },
 "nbformat": 4,
 "nbformat_minor": 5
}
